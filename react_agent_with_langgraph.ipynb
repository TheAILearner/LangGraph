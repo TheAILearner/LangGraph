{
 "cells": [
  {
   "cell_type": "markdown",
   "id": "095499ad",
   "metadata": {},
   "source": [
    "<h2 style=\"text-align:center;\">ReAct Agent</h2>"
   ]
  },
  {
   "cell_type": "markdown",
   "id": "79b90ce2",
   "metadata": {},
   "source": [
    "<!DOCTYPE html>\n",
    "<html lang=\"en\">\n",
    "<head>\n",
    "    <meta charset=\"UTF-8\">\n",
    "    <meta name=\"viewport\" content=\"width=device-width, initial-scale=1.0\">\n",
    "    <title>Zoomable Image</title>\n",
    "    <style>\n",
    "        body {\n",
    "            margin: 0;\n",
    "            display: flex;\n",
    "            justify-content: center;\n",
    "            align-items: center;\n",
    "            height: 100vh;\n",
    "            background-color: #f0f0f0;\n",
    "        }\n",
    "        #graph {\n",
    "            width: 60%;\n",
    "            height: auto;\n",
    "        }\n",
    "    </style>\n",
    "    <script src=\"https://unpkg.com/@panzoom/panzoom@9.4.0/dist/panzoom.min.js\"></script>\n",
    "</head>\n",
    "<body>\n",
    "    <div id=\"graph-container\">\n",
    "        <center><img id=\"graph\" src=\"./data/react.png\" alt=\"Language Graph\"></center>\n",
    "    </div>\n",
    "    <script>\n",
    "        const element = document.getElementById('graph');\n",
    "        const panzoom = Panzoom(element, {\n",
    "            maxScale: 3,\n",
    "            minScale: 0.5\n",
    "        });\n",
    "        element.parentElement.addEventListener('wheel', panzoom.zoomWithWheel);\n",
    "    </script>\n",
    "</body>\n",
    "</html>\n"
   ]
  },
  {
   "cell_type": "markdown",
   "id": "87b1fa01",
   "metadata": {},
   "source": [
    "#### Install Libraries"
   ]
  },
  {
   "cell_type": "code",
   "execution_count": null,
   "id": "ed5591d8",
   "metadata": {},
   "outputs": [],
   "source": [
    "# !pip install -U langgraph\n",
    "# !pip install langchain-openai\n",
    "# !pip install wikipedia"
   ]
  },
  {
   "cell_type": "markdown",
   "id": "6d362012",
   "metadata": {},
   "source": [
    "#### Instantiate LLM"
   ]
  },
  {
   "cell_type": "code",
   "execution_count": null,
   "id": "34e1a8ec",
   "metadata": {},
   "outputs": [],
   "source": [
    "from langchain_openai import ChatOpenAI\n",
    "import os, getpass"
   ]
  },
  {
   "cell_type": "code",
   "execution_count": null,
   "id": "4b441076",
   "metadata": {},
   "outputs": [],
   "source": [
    "# if not os.environ.get(\"OPENAI_API_KEY\"):\n",
    "    # os.environ[\"OPENAI_API_KEY\"] = getpass.getpass(\"Enter your OpenAI API key: \")\n",
    "\n",
    "llm = ChatOpenAI(temperature=0, model=\"gpt-4.1-nano\", api_key=os.environ[\"OPENAI_API_KEY\"]) # type: ignore\n",
    "# llm.invoke(\"Hi\")"
   ]
  },
  {
   "cell_type": "code",
   "execution_count": null,
   "id": "c381869c",
   "metadata": {},
   "outputs": [],
   "source": [
    "llm.invoke(\"Hi\")"
   ]
  },
  {
   "cell_type": "markdown",
   "id": "dcba4984",
   "metadata": {},
   "source": [
    "#### Initialize langsmith"
   ]
  },
  {
   "cell_type": "code",
   "execution_count": null,
   "id": "55a78919",
   "metadata": {},
   "outputs": [],
   "source": [
    "os.environ[\"LANGSMITH_TRACING\"] = \"true\"\n",
    "os.environ[\"LANGCHAIN_PROJECT\"] = \"React Agent with LangGraph\""
   ]
  },
  {
   "cell_type": "markdown",
   "id": "7807033e",
   "metadata": {},
   "source": [
    "#### State for the Graph"
   ]
  },
  {
   "cell_type": "code",
   "execution_count": null,
   "id": "f5e4be75",
   "metadata": {},
   "outputs": [],
   "source": [
    "from langgraph.graph import MessagesState\n",
    "from langchain_core.messages import HumanMessage"
   ]
  },
  {
   "cell_type": "code",
   "execution_count": null,
   "id": "1a95640a",
   "metadata": {},
   "outputs": [],
   "source": [
    "human_message = HumanMessage(content=f\"Who won the ODI CWC 2011?\", name=\"theailearner\")\n",
    "human_message"
   ]
  },
  {
   "cell_type": "code",
   "execution_count": null,
   "id": "73bf680f",
   "metadata": {},
   "outputs": [],
   "source": [
    "human_message.pretty_print()"
   ]
  },
  {
   "cell_type": "code",
   "execution_count": null,
   "id": "25da9c49",
   "metadata": {},
   "outputs": [],
   "source": [
    "state = MessagesState({\"messages\" : [human_message]}) # type: ignore\n",
    "state"
   ]
  },
  {
   "cell_type": "code",
   "execution_count": null,
   "id": "3bae6f13",
   "metadata": {},
   "outputs": [],
   "source": [
    "res = llm.invoke(state[\"messages\"])\n",
    "res"
   ]
  },
  {
   "cell_type": "code",
   "execution_count": null,
   "id": "6e1dcd1a",
   "metadata": {},
   "outputs": [],
   "source": [
    "state['messages'].append(res) # type: ignore\n",
    "state"
   ]
  },
  {
   "cell_type": "code",
   "execution_count": null,
   "id": "052f30e4",
   "metadata": {},
   "outputs": [],
   "source": [
    "state['messages'].append(HumanMessage(content=f\"Which team did india beat in finals?\", name=\"theailearner\")) # type: ignore"
   ]
  },
  {
   "cell_type": "code",
   "execution_count": null,
   "id": "19710987",
   "metadata": {},
   "outputs": [],
   "source": [
    "for m in state[\"messages\"]:\n",
    "    m.pretty_print()"
   ]
  },
  {
   "cell_type": "code",
   "execution_count": null,
   "id": "7ed48114",
   "metadata": {},
   "outputs": [],
   "source": [
    "res = llm.invoke(state[\"messages\"])\n",
    "print(res.content)"
   ]
  },
  {
   "cell_type": "markdown",
   "id": "8e931664",
   "metadata": {},
   "source": [
    "#### Tool"
   ]
  },
  {
   "cell_type": "code",
   "execution_count": null,
   "id": "c378beda",
   "metadata": {},
   "outputs": [],
   "source": [
    "from langchain_community.tools import WikipediaQueryRun\n",
    "from langchain_community.utilities import WikipediaAPIWrapper"
   ]
  },
  {
   "cell_type": "code",
   "execution_count": null,
   "id": "f5a77352",
   "metadata": {},
   "outputs": [],
   "source": [
    "wikipedia = WikipediaQueryRun(api_wrapper=WikipediaAPIWrapper(top_k_results=1)) # type: ignore"
   ]
  },
  {
   "cell_type": "code",
   "execution_count": null,
   "id": "ea048d09",
   "metadata": {},
   "outputs": [],
   "source": [
    "res = wikipedia.run(\"fifa world cup 2026\")\n",
    "print(res)"
   ]
  },
  {
   "cell_type": "code",
   "execution_count": null,
   "id": "f65a0ca2",
   "metadata": {},
   "outputs": [],
   "source": [
    "def search_wikipedia(query: str) -> str:\n",
    "    '''Searches Wikipedia for the given query and returns a summary of the results.\n",
    "    Args:\n",
    "        query (str): The search query.'''\n",
    "    \n",
    "    return wikipedia.run(query)"
   ]
  },
  {
   "cell_type": "code",
   "execution_count": null,
   "id": "55e0d157",
   "metadata": {},
   "outputs": [],
   "source": [
    "llm_with_tools = llm.bind_tools([search_wikipedia])"
   ]
  },
  {
   "cell_type": "markdown",
   "id": "e12c8fcc",
   "metadata": {},
   "source": [
    "#### Graph"
   ]
  },
  {
   "cell_type": "code",
   "execution_count": null,
   "id": "45122bae",
   "metadata": {},
   "outputs": [],
   "source": [
    "def call_llm(state : MessagesState) -> dict:\n",
    "    response = llm_with_tools.invoke(state[\"messages\"])\n",
    "    return {\"messages\" : response}"
   ]
  },
  {
   "cell_type": "code",
   "execution_count": null,
   "id": "7ad5b90f",
   "metadata": {},
   "outputs": [],
   "source": [
    "from langgraph.prebuilt import ToolNode, tools_condition\n",
    "from langgraph.graph import StateGraph, START\n",
    "from IPython.display import Image, display # type: ignore"
   ]
  },
  {
   "cell_type": "code",
   "execution_count": null,
   "id": "62f0392d",
   "metadata": {},
   "outputs": [],
   "source": [
    "builder = StateGraph(MessagesState)\n",
    "builder.add_node(\"call_llm\", call_llm)\n",
    "builder.add_node(\"tools\", ToolNode([search_wikipedia]))\n",
    "builder.add_edge(START, \"call_llm\")\n",
    "builder.add_conditional_edges(\"call_llm\", tools_condition)\n",
    "builder.add_edge(\"tools\", \"call_llm\")\n",
    "react_graph = builder.compile()\n",
    "\n",
    "display(Image(react_graph.get_graph().draw_mermaid_png()))"
   ]
  },
  {
   "cell_type": "code",
   "execution_count": null,
   "id": "2a508d85",
   "metadata": {},
   "outputs": [],
   "source": [
    "msg = [HumanMessage(content=\"Where will the FIFA World Cup 2026 be held?\")]"
   ]
  },
  {
   "cell_type": "code",
   "execution_count": null,
   "id": "b0d47959",
   "metadata": {},
   "outputs": [],
   "source": [
    "results = react_graph.invoke({\"messages\": msg}) # type: ignore"
   ]
  },
  {
   "cell_type": "code",
   "execution_count": null,
   "id": "18f44d00",
   "metadata": {},
   "outputs": [],
   "source": [
    "for m in results[\"messages\"]:\n",
    "    print(m.pretty_print())"
   ]
  },
  {
   "cell_type": "code",
   "execution_count": null,
   "id": "1cddaa66",
   "metadata": {},
   "outputs": [],
   "source": [
    "results[\"messages\"][-1].content"
   ]
  },
  {
   "cell_type": "markdown",
   "id": "dcac8e6e",
   "metadata": {},
   "source": [
    "#### with prebuilt component"
   ]
  },
  {
   "cell_type": "code",
   "execution_count": null,
   "id": "8a29ecf2",
   "metadata": {},
   "outputs": [],
   "source": [
    "from langgraph.prebuilt import create_react_agent"
   ]
  },
  {
   "cell_type": "code",
   "execution_count": null,
   "id": "953b5f61",
   "metadata": {},
   "outputs": [],
   "source": [
    "prebuilt_agent = create_react_agent(model = llm, tools = [search_wikipedia])"
   ]
  },
  {
   "cell_type": "code",
   "execution_count": null,
   "id": "fa6ba4e4",
   "metadata": {},
   "outputs": [],
   "source": [
    "display(Image(prebuilt_agent.get_graph().draw_mermaid_png()))"
   ]
  },
  {
   "cell_type": "code",
   "execution_count": null,
   "id": "95414e77",
   "metadata": {},
   "outputs": [],
   "source": [
    "response = prebuilt_agent.invoke({\"messages\": msg})"
   ]
  },
  {
   "cell_type": "code",
   "execution_count": null,
   "id": "19f9a8ee",
   "metadata": {},
   "outputs": [],
   "source": [
    "for m in response['messages']:\n",
    "    m.pretty_print()"
   ]
  },
  {
   "cell_type": "code",
   "execution_count": null,
   "id": "b6ebd91e",
   "metadata": {},
   "outputs": [],
   "source": [
    "response['messages'][-1].pretty_print()"
   ]
  },
  {
   "cell_type": "code",
   "execution_count": null,
   "id": "0b4c2f3b",
   "metadata": {},
   "outputs": [],
   "source": []
  }
 ],
 "metadata": {
  "kernelspec": {
   "display_name": "Python 3",
   "language": "python",
   "name": "python3"
  },
  "language_info": {
   "codemirror_mode": {
    "name": "ipython",
    "version": 3
   },
   "file_extension": ".py",
   "mimetype": "text/x-python",
   "name": "python",
   "nbconvert_exporter": "python",
   "pygments_lexer": "ipython3",
   "version": "3.12.3"
  }
 },
 "nbformat": 4,
 "nbformat_minor": 5
}
