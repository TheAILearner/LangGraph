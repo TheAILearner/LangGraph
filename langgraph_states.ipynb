{
 "cells": [
  {
   "cell_type": "markdown",
   "id": "767883d0",
   "metadata": {},
   "source": [
    "**State :**\n",
    "1. **Schema of the graph**\n",
    "    1. TypedDict\n",
    "    2. Pydantic\n",
    "2. **Reducer functions**\n",
    "    1. Pre-defined (operator.add, add_messages, etcs.)\n",
    "    2. Custom functions\n"
   ]
  },
  {
   "cell_type": "markdown",
   "id": "56aa64df",
   "metadata": {},
   "source": [
    "<p align=\"center\">\n",
    "  <img src=\"langgraph_state_definition2.gif\" width=\"800\">\n",
    "</p>"
   ]
  },
  {
   "cell_type": "markdown",
   "id": "56e6de36",
   "metadata": {},
   "source": [
    "#### TypedDict"
   ]
  },
  {
   "cell_type": "code",
   "execution_count": null,
   "id": "855f6d01",
   "metadata": {},
   "outputs": [],
   "source": [
    "from typing_extensions import TypedDict"
   ]
  },
  {
   "cell_type": "code",
   "execution_count": null,
   "id": "e108113c",
   "metadata": {},
   "outputs": [],
   "source": [
    "class TypedState(TypedDict):\n",
    "    name: str\n",
    "    age: int"
   ]
  },
  {
   "cell_type": "code",
   "execution_count": null,
   "id": "fb91c150",
   "metadata": {},
   "outputs": [],
   "source": [
    "TypedState(name=\"Rahul\", age=30)"
   ]
  },
  {
   "cell_type": "code",
   "execution_count": null,
   "id": "455e9850",
   "metadata": {},
   "outputs": [],
   "source": [
    "TypedState(name=\"Rahul\", age=\"30 years\", years = 5)"
   ]
  },
  {
   "cell_type": "markdown",
   "id": "e3e6b0b9",
   "metadata": {},
   "source": [
    "#### Pydantic"
   ]
  },
  {
   "cell_type": "markdown",
   "id": "c6a3b14c",
   "metadata": {},
   "source": [
    "1. Separate python library for data validation\n",
    "2. Automatic type checking and conversion.\n",
    "3. Supports default values, optional fields, and validators."
   ]
  },
  {
   "cell_type": "code",
   "execution_count": null,
   "id": "002da263",
   "metadata": {},
   "outputs": [],
   "source": [
    "from pydantic import BaseModel"
   ]
  },
  {
   "cell_type": "code",
   "execution_count": null,
   "id": "4bb698c5",
   "metadata": {},
   "outputs": [],
   "source": [
    "class PydanticState(BaseModel):\n",
    "    name: str\n",
    "    age: int"
   ]
  },
  {
   "cell_type": "code",
   "execution_count": null,
   "id": "73953bc0",
   "metadata": {},
   "outputs": [],
   "source": [
    "PydanticState(name=\"Rahul\", age=30)"
   ]
  },
  {
   "cell_type": "code",
   "execution_count": null,
   "id": "fe5143ce",
   "metadata": {},
   "outputs": [],
   "source": [
    "PydanticState(name=\"Rahul\", age=\"30\")"
   ]
  },
  {
   "cell_type": "code",
   "execution_count": null,
   "id": "d02eda80",
   "metadata": {},
   "outputs": [],
   "source": [
    "PydanticState(name=\"Rahul\", age=\"30 years\")"
   ]
  },
  {
   "cell_type": "code",
   "execution_count": null,
   "id": "669bee5b",
   "metadata": {},
   "outputs": [],
   "source": [
    "TypedState(name=\"Rahul\", age=-1)"
   ]
  },
  {
   "cell_type": "code",
   "execution_count": null,
   "id": "2ba7d7db",
   "metadata": {},
   "outputs": [],
   "source": [
    "PydanticState(name=\"Rahul\", age=-1)"
   ]
  },
  {
   "cell_type": "code",
   "execution_count": null,
   "id": "0213bfa5",
   "metadata": {},
   "outputs": [],
   "source": [
    "from pydantic import field_validator"
   ]
  },
  {
   "cell_type": "code",
   "execution_count": null,
   "id": "e437eb17",
   "metadata": {},
   "outputs": [],
   "source": [
    "class PydanticState(BaseModel):\n",
    "    name: str\n",
    "    age: int\n",
    "\n",
    "    @field_validator(\"age\")\n",
    "    def validate_age(cls, value):\n",
    "        if value < 0:\n",
    "            raise ValueError(\"Age must be a positive integer\")\n",
    "        return value"
   ]
  },
  {
   "cell_type": "code",
   "execution_count": null,
   "id": "9a2d1ee6",
   "metadata": {},
   "outputs": [],
   "source": [
    "PydanticState(name=\"Rahul\", age=-1)"
   ]
  },
  {
   "cell_type": "code",
   "execution_count": null,
   "id": "eb890dcb",
   "metadata": {},
   "outputs": [],
   "source": [
    "from langgraph.graph import StateGraph, START, END\n",
    "from IPython.display import display, Image # type: ignore"
   ]
  },
  {
   "cell_type": "code",
   "execution_count": null,
   "id": "4503b9e1",
   "metadata": {},
   "outputs": [],
   "source": [
    "def node_a(state : PydanticState) -> PydanticState:\n",
    "    state.age += 1\n",
    "    return state"
   ]
  },
  {
   "cell_type": "code",
   "execution_count": null,
   "id": "064ccfe3",
   "metadata": {},
   "outputs": [],
   "source": [
    "builder = StateGraph(PydanticState)\n",
    "builder.add_node(\"A\", node_a)\n",
    "builder.add_edge(START, \"A\")\n",
    "builder.add_edge(\"A\", END)\n",
    "\n",
    "graph = builder.compile()\n",
    "\n",
    "display(Image(graph.get_graph().draw_mermaid_png()))"
   ]
  },
  {
   "cell_type": "code",
   "execution_count": null,
   "id": "8cadaa5f",
   "metadata": {},
   "outputs": [],
   "source": [
    "graph.invoke({\"name\": \"Rahul\", \"age\": 30}) # type: ignore"
   ]
  },
  {
   "cell_type": "code",
   "execution_count": null,
   "id": "6bff6cce",
   "metadata": {},
   "outputs": [],
   "source": [
    "graph.invoke({\"name\": \"Rahul\", \"age\": -2}) # type: ignore"
   ]
  },
  {
   "cell_type": "markdown",
   "id": "e1d0512d",
   "metadata": {},
   "source": [
    "### Multiple Schemas"
   ]
  },
  {
   "cell_type": "markdown",
   "id": "4dbe0fe3",
   "metadata": {},
   "source": [
    "All graph nodes usually share a single schema, reading and writing to the same state.\n",
    "\n",
    "Sometimes, more control is needed:\n",
    "\n",
    "        1. Internal nodes can pass info not required in the graph’s input/output.\n",
    "\n",
    "        2. Graphs can use different input/output schemas; e.g., output may include only a single relevant key."
   ]
  },
  {
   "cell_type": "markdown",
   "id": "fa495ecd",
   "metadata": {},
   "source": [
    "#### 1. Private"
   ]
  },
  {
   "cell_type": "code",
   "execution_count": null,
   "id": "4aca1366",
   "metadata": {},
   "outputs": [],
   "source": [
    "class OverallState(TypedDict):\n",
    "    name: str\n",
    "    age: int\n",
    "\n",
    "class PrivateState(TypedDict):\n",
    "    salary: int"
   ]
  },
  {
   "cell_type": "code",
   "execution_count": null,
   "id": "1690574b",
   "metadata": {},
   "outputs": [],
   "source": [
    "def node_a(state : OverallState) -> PrivateState:\n",
    "    print(\"node A state: \", state)\n",
    "    return {\"salary\" : 10000}\n",
    "\n",
    "def node_b(state : PrivateState) -> OverallState:\n",
    "    print(\"node B state: \", state)\n",
    "    return state # type: ignore"
   ]
  },
  {
   "cell_type": "code",
   "execution_count": null,
   "id": "6c806d70",
   "metadata": {},
   "outputs": [],
   "source": [
    "builder = StateGraph(OverallState)\n",
    "builder.add_node(\"A\", node_a)\n",
    "builder.add_node(\"B\", node_b)\n",
    "builder.add_edge(START, \"A\")\n",
    "builder.add_edge(\"A\", \"B\")\n",
    "builder.add_edge(\"B\", END)\n",
    "\n",
    "graph = builder.compile()\n",
    "\n",
    "display(Image(graph.get_graph().draw_mermaid_png()))"
   ]
  },
  {
   "cell_type": "code",
   "execution_count": null,
   "id": "39b27dab",
   "metadata": {},
   "outputs": [],
   "source": [
    "graph.invoke({\"name\": \"Rahul\", \"age\": 30})"
   ]
  },
  {
   "cell_type": "markdown",
   "id": "5d207e15",
   "metadata": {},
   "source": [
    "#### 2. Input and Output Schema"
   ]
  },
  {
   "cell_type": "code",
   "execution_count": null,
   "id": "543635a2",
   "metadata": {},
   "outputs": [],
   "source": [
    "class OverallState(TypedDict):\n",
    "    name: str\n",
    "    age: int\n",
    "    info: str\n",
    "\n",
    "class InputState(TypedDict):\n",
    "    age: int\n",
    "\n",
    "class OutputState(TypedDict):\n",
    "    info: str"
   ]
  },
  {
   "cell_type": "code",
   "execution_count": null,
   "id": "bd67cadf",
   "metadata": {},
   "outputs": [],
   "source": [
    "def node_a(state : InputState):\n",
    "    print(\"node A - input state: \", state)\n",
    "    return {\"name\" : \"Rahul\", \"age\" : state[\"age\"] + 1} # type: ignore\n",
    "\n",
    "def node_b(state : OverallState) -> OutputState:\n",
    "    print(\"node B - overall state: \", state)\n",
    "    return {\"info\": f\"{state['name']} is {state['age']} years old.\"}"
   ]
  },
  {
   "cell_type": "code",
   "execution_count": null,
   "id": "b3158a1f",
   "metadata": {},
   "outputs": [],
   "source": [
    "builder = StateGraph(OverallState, input_schema=InputState, output_schema=OutputState)\n",
    "builder.add_node(\"A\", node_a)\n",
    "builder.add_node(\"B\", node_b)\n",
    "builder.add_edge(START, \"A\")\n",
    "builder.add_edge(\"A\", \"B\")\n",
    "builder.add_edge(\"B\", END)\n",
    "\n",
    "graph = builder.compile()\n",
    "\n",
    "display(Image(graph.get_graph().draw_mermaid_png()))"
   ]
  },
  {
   "cell_type": "code",
   "execution_count": null,
   "id": "211e1dc9",
   "metadata": {},
   "outputs": [],
   "source": [
    "graph.invoke({\"age\" : 30})"
   ]
  },
  {
   "cell_type": "code",
   "execution_count": null,
   "id": "06fd663e",
   "metadata": {},
   "outputs": [],
   "source": []
  },
  {
   "cell_type": "code",
   "execution_count": null,
   "id": "96793c0c",
   "metadata": {},
   "outputs": [],
   "source": []
  }
 ],
 "metadata": {
  "kernelspec": {
   "display_name": "Python 3",
   "language": "python",
   "name": "python3"
  },
  "language_info": {
   "codemirror_mode": {
    "name": "ipython",
    "version": 3
   },
   "file_extension": ".py",
   "mimetype": "text/x-python",
   "name": "python",
   "nbconvert_exporter": "python",
   "pygments_lexer": "ipython3",
   "version": "3.12.3"
  }
 },
 "nbformat": 4,
 "nbformat_minor": 5
}
